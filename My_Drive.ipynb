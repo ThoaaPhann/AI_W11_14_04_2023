{
  "nbformat": 4,
  "nbformat_minor": 0,
  "metadata": {
    "colab": {
      "provenance": [],
      "mount_file_id": "1fyx3JHE1YfQPEaLQqm1CuXeFQ_8XvBYw",
      "authorship_tag": "ABX9TyPQYiWPr1N0shkHBWYZX+eb",
      "include_colab_link": true
    },
    "kernelspec": {
      "name": "python3",
      "display_name": "Python 3"
    },
    "language_info": {
      "name": "python"
    }
  },
  "cells": [
    {
      "cell_type": "markdown",
      "metadata": {
        "id": "view-in-github",
        "colab_type": "text"
      },
      "source": [
        "<a href=\"https://colab.research.google.com/github/ThoaaPhann/AI_W11_14_04_2023/blob/main/My_Drive.ipynb\" target=\"_parent\"><img src=\"https://colab.research.google.com/assets/colab-badge.svg\" alt=\"Open In Colab\"/></a>"
      ]
    },
    {
      "cell_type": "code",
      "source": [
        "from google.colab import drive\n",
        "drive.mount('/content/drive')"
      ],
      "metadata": {
        "colab": {
          "base_uri": "https://localhost:8080/"
        },
        "id": "8OSe5bTOzgkt",
        "outputId": "a6de000c-5526-4ef0-a600-64df65ccd4f3"
      },
      "execution_count": 17,
      "outputs": [
        {
          "output_type": "stream",
          "name": "stdout",
          "text": [
            "Drive already mounted at /content/drive; to attempt to forcibly remount, call drive.mount(\"/content/drive\", force_remount=True).\n"
          ]
        }
      ]
    },
    {
      "cell_type": "code",
      "source": [
        "from os import listdir\n",
        "from numpy import asarray, save \n",
        "from keras.utils import load_img, img_to_array\n",
        "folder = '/content/drive/MyDrive/Giáo trình của 20146076/MyDrive_Picture/'\n",
        "photos, labels = list(), list()\n",
        "output = 0\n",
        "for file in listdir(folder):\n",
        "  output = 0.0 \n",
        "  if file.startswith('Thoa'):\n",
        "    output = 1.0\n",
        "  if file.startswith('Vu'):\n",
        "    output = 2.0 \n",
        "  img = load_img(folder+file,target_size=(200,200))\n",
        "  photo = img_to_array(img)\n",
        "  photos.append(photo)\n",
        "  labels.append(output)\n",
        "  photos = asarray(photos)\n",
        "  labels = asarray(labels)\n",
        "  print(photos.shape, labels.shape)\n",
        "  save('/content/drive/MyDrive/Giáo trình của 20146076/MyDrive_Picture/Thoa_photos.npy',photos)\n",
        "  save('/content/drive/MyDrive/Giáo trình của 20146076/MyDrive_Picture/Vu_labels.npy',labels)"
      ],
      "metadata": {
        "id": "s_tCDpf2yE2q"
      },
      "execution_count": 18,
      "outputs": []
    }
  ]
}