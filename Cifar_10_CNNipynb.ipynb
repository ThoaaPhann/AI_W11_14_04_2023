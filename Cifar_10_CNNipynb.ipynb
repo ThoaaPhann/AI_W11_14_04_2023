{
  "nbformat": 4,
  "nbformat_minor": 0,
  "metadata": {
    "colab": {
      "provenance": [],
      "mount_file_id": "1kfT6WLE5wt2K7wbH3bkHxQDWU1lQIJB3",
      "authorship_tag": "ABX9TyPsJFCRqL+dZ+8TURpy3cjJ",
      "include_colab_link": true
    },
    "kernelspec": {
      "name": "python3",
      "display_name": "Python 3"
    },
    "language_info": {
      "name": "python"
    },
    "accelerator": "GPU",
    "gpuClass": "standard"
  },
  "cells": [
    {
      "cell_type": "markdown",
      "metadata": {
        "id": "view-in-github",
        "colab_type": "text"
      },
      "source": [
        "<a href=\"https://colab.research.google.com/github/ThoaaPhann/AI_W11_14_04_2023/blob/main/Cifar_10_CNNipynb.ipynb\" target=\"_parent\"><img src=\"https://colab.research.google.com/assets/colab-badge.svg\" alt=\"Open In Colab\"/></a>"
      ]
    },
    {
      "cell_type": "code",
      "source": [
        "from keras.datasets import cifar10\n",
        "import matplotlib.pyplot as plt\n",
        "from keras import optimizers\n",
        "from keras.models import Sequential \n",
        "from keras.models import Model\n",
        "from keras.layers import Dense\n",
        "from keras.layers import Flatten\n",
        "from keras.layers import Conv2D\n",
        "from keras.layers import MaxPooling2D\n",
        "from keras.layers import Normalization\n",
        "from keras.layers import LeakyReLU\n",
        "from keras.layers import Dropout\n",
        "from keras.optimizers import Adam\n",
        "from keras import losses\n",
        "from keras.losses import categorical_crossentropy\n",
        "\n",
        "(x_train, y_train), (x_test, y_test) = cifar10.load_data()\n",
        "x_train.shape, y_train.shape, x_test.shape, y_test.shape"
      ],
      "metadata": {
        "colab": {
          "base_uri": "https://localhost:8080/"
        },
        "id": "ElE5oz8vxVk1",
        "outputId": "54b24326-4384-43bf-e79a-6cb87faf5aef"
      },
      "execution_count": 12,
      "outputs": [
        {
          "output_type": "execute_result",
          "data": {
            "text/plain": [
              "((50000, 32, 32, 3), (50000, 1), (10000, 32, 32, 3), (10000, 1))"
            ]
          },
          "metadata": {},
          "execution_count": 12
        }
      ]
    },
    {
      "cell_type": "code",
      "source": [
        "from keras.utils import to_categorical\n",
        "x_train = x_train.astype('float32')/255\n",
        "y_train = to_categorical(y_train,10)\n",
        "y_train.shape"
      ],
      "metadata": {
        "colab": {
          "base_uri": "https://localhost:8080/"
        },
        "id": "09kYS7peyfYg",
        "outputId": "6f090fa0-6d47-4bd2-b63b-888bb1a9de2b"
      },
      "execution_count": 13,
      "outputs": [
        {
          "output_type": "execute_result",
          "data": {
            "text/plain": [
              "(50000, 10)"
            ]
          },
          "metadata": {},
          "execution_count": 13
        }
      ]
    },
    {
      "cell_type": "code",
      "source": [
        "from keras.layers.core.activation import Activation\n",
        "Model = Sequential()\n",
        "Model.add(Conv2D(32,(3,3),padding ='same',input_shape =(32,32,3)))\n",
        "Model.add(Activation('relu'))\n",
        "Model.add(Conv2D(32,(3,3)))\n",
        "Model.add(Activation('relu'))\n",
        "Model.add(MaxPooling2D((2,2)))\n",
        "Model.add(Dropout(0.25))\n",
        "\n",
        "Model.add(Conv2D(64,(3,3),padding = 'same'))\n",
        "Model.add(Activation('relu'))\n",
        "Model.add(Conv2D(64,(3,3)))\n",
        "Model.add(Activation('relu'))\n",
        "Model.add(MaxPooling2D(2,2))\n",
        "Model.add(Dropout(0.25))\n",
        "\n",
        "# ANN\n",
        "Model.add(Flatten())\n",
        "Model.add(Dense(512,activation = 'relu'))\n",
        "Model.add(Dropout(0.25))\n",
        "Model.add(Dense(10,activation = 'softmax'))\n",
        "Model.summary()"
      ],
      "metadata": {
        "colab": {
          "base_uri": "https://localhost:8080/"
        },
        "id": "02Eytmet3kok",
        "outputId": "87b5ffc3-58fd-403c-b5de-0919dfb7537a"
      },
      "execution_count": 14,
      "outputs": [
        {
          "output_type": "stream",
          "name": "stdout",
          "text": [
            "Model: \"sequential_1\"\n",
            "_________________________________________________________________\n",
            " Layer (type)                Output Shape              Param #   \n",
            "=================================================================\n",
            " conv2d_4 (Conv2D)           (None, 32, 32, 32)        896       \n",
            "                                                                 \n",
            " activation_4 (Activation)   (None, 32, 32, 32)        0         \n",
            "                                                                 \n",
            " conv2d_5 (Conv2D)           (None, 30, 30, 32)        9248      \n",
            "                                                                 \n",
            " activation_5 (Activation)   (None, 30, 30, 32)        0         \n",
            "                                                                 \n",
            " max_pooling2d_2 (MaxPooling  (None, 15, 15, 32)       0         \n",
            " 2D)                                                             \n",
            "                                                                 \n",
            " dropout_3 (Dropout)         (None, 15, 15, 32)        0         \n",
            "                                                                 \n",
            " conv2d_6 (Conv2D)           (None, 15, 15, 64)        18496     \n",
            "                                                                 \n",
            " activation_6 (Activation)   (None, 15, 15, 64)        0         \n",
            "                                                                 \n",
            " conv2d_7 (Conv2D)           (None, 13, 13, 64)        36928     \n",
            "                                                                 \n",
            " activation_7 (Activation)   (None, 13, 13, 64)        0         \n",
            "                                                                 \n",
            " max_pooling2d_3 (MaxPooling  (None, 6, 6, 64)         0         \n",
            " 2D)                                                             \n",
            "                                                                 \n",
            " dropout_4 (Dropout)         (None, 6, 6, 64)          0         \n",
            "                                                                 \n",
            " flatten_1 (Flatten)         (None, 2304)              0         \n",
            "                                                                 \n",
            " dense_2 (Dense)             (None, 512)               1180160   \n",
            "                                                                 \n",
            " dropout_5 (Dropout)         (None, 512)               0         \n",
            "                                                                 \n",
            " dense_3 (Dense)             (None, 10)                5130      \n",
            "                                                                 \n",
            "=================================================================\n",
            "Total params: 1,250,858\n",
            "Trainable params: 1,250,858\n",
            "Non-trainable params: 0\n",
            "_________________________________________________________________\n"
          ]
        }
      ]
    },
    {
      "cell_type": "code",
      "source": [
        "from keras.optimizers import SGD\n",
        "\n",
        "sgd = SGD(lr = 0.1, decay = 1e-6, momentum = 0.9, nesterov = True)\n",
        "Model.compile(loss ='categorical_crossentropy',optimizer=sgd,metrics=['accuracy'])\n",
        "train = Model.fit(x_train, y_train, batch_size = 128, epochs = 20, verbose = 1)"
      ],
      "metadata": {
        "colab": {
          "base_uri": "https://localhost:8080/"
        },
        "id": "5CUr801R4NFg",
        "outputId": "6c88d418-538f-47c6-b4ed-f83f9390a7e7"
      },
      "execution_count": 15,
      "outputs": [
        {
          "output_type": "stream",
          "name": "stderr",
          "text": [
            "/usr/local/lib/python3.9/dist-packages/keras/optimizers/legacy/gradient_descent.py:114: UserWarning: The `lr` argument is deprecated, use `learning_rate` instead.\n",
            "  super().__init__(name, **kwargs)\n"
          ]
        },
        {
          "output_type": "stream",
          "name": "stdout",
          "text": [
            "Epoch 1/20\n",
            "391/391 [==============================] - 9s 21ms/step - loss: 2.3015 - accuracy: 0.1052\n",
            "Epoch 2/20\n",
            "391/391 [==============================] - 5s 12ms/step - loss: 2.3044 - accuracy: 0.0986\n",
            "Epoch 3/20\n",
            "391/391 [==============================] - 5s 12ms/step - loss: 2.3044 - accuracy: 0.0994\n",
            "Epoch 4/20\n",
            "391/391 [==============================] - 5s 12ms/step - loss: 2.3044 - accuracy: 0.0992\n",
            "Epoch 5/20\n",
            "391/391 [==============================] - 5s 12ms/step - loss: 2.3044 - accuracy: 0.0990\n",
            "Epoch 6/20\n",
            "391/391 [==============================] - 5s 12ms/step - loss: 2.3042 - accuracy: 0.0974\n",
            "Epoch 7/20\n",
            "391/391 [==============================] - 6s 14ms/step - loss: 2.3041 - accuracy: 0.1020\n",
            "Epoch 8/20\n",
            "391/391 [==============================] - 5s 12ms/step - loss: 2.3043 - accuracy: 0.0992\n",
            "Epoch 9/20\n",
            "391/391 [==============================] - 5s 12ms/step - loss: 2.3044 - accuracy: 0.0984\n",
            "Epoch 10/20\n",
            "391/391 [==============================] - 5s 12ms/step - loss: 2.3043 - accuracy: 0.1003\n",
            "Epoch 11/20\n",
            "391/391 [==============================] - 5s 12ms/step - loss: 2.3043 - accuracy: 0.1005\n",
            "Epoch 12/20\n",
            "391/391 [==============================] - 4s 11ms/step - loss: 2.3045 - accuracy: 0.0980\n",
            "Epoch 13/20\n",
            "391/391 [==============================] - 5s 12ms/step - loss: 2.3043 - accuracy: 0.0997\n",
            "Epoch 14/20\n",
            "391/391 [==============================] - 6s 16ms/step - loss: 2.3043 - accuracy: 0.1002\n",
            "Epoch 15/20\n",
            "391/391 [==============================] - 5s 13ms/step - loss: 2.3043 - accuracy: 0.0999\n",
            "Epoch 16/20\n",
            "391/391 [==============================] - 5s 12ms/step - loss: 2.3040 - accuracy: 0.0993\n",
            "Epoch 17/20\n",
            "391/391 [==============================] - 4s 11ms/step - loss: 2.3048 - accuracy: 0.0988\n",
            "Epoch 18/20\n",
            "391/391 [==============================] - 5s 12ms/step - loss: 2.3043 - accuracy: 0.1008\n",
            "Epoch 19/20\n",
            "391/391 [==============================] - 5s 12ms/step - loss: 2.3042 - accuracy: 0.0999\n",
            "Epoch 20/20\n",
            "391/391 [==============================] - 5s 12ms/step - loss: 2.3044 - accuracy: 0.0996\n"
          ]
        }
      ]
    },
    {
      "cell_type": "code",
      "source": [
        "Model.save('/content/drive/MyDrive/Giáo trình của 20146076/MyDrive_Picture/Cifar10.h5')"
      ],
      "metadata": {
        "id": "YkUuQpoY-RFd"
      },
      "execution_count": 16,
      "outputs": []
    },
    {
      "cell_type": "code",
      "source": [
        "accuracy = train.history['accuracy']\n",
        "loss=train.history['loss']\n",
        "epochs=range(len(accuracy))\n",
        "plt.plot(epochs,accuracy,'c',label='Traing accuracy')\n",
        "plt.plot(epochs,loss,'b',label='Traing loss')\n",
        "plt.legend()\n",
        "plt.show()"
      ],
      "metadata": {
        "id": "CtTRnsjSCOQQ",
        "outputId": "074aeceb-5b86-4582-bbfd-8e6719ad7cb6",
        "colab": {
          "base_uri": "https://localhost:8080/",
          "height": 430
        }
      },
      "execution_count": 17,
      "outputs": [
        {
          "output_type": "display_data",
          "data": {
            "text/plain": [
              "<Figure size 640x480 with 1 Axes>"
            ],
            "image/png": "[encoded data removed]"
          },
          "metadata": {}
        }
      ]
    }
  ]
}