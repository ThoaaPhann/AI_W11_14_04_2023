{
  "nbformat": 4,
  "nbformat_minor": 0,
  "metadata": {
    "colab": {
      "provenance": [],
      "mount_file_id": "1q7fRhk9hG7BWi7JeeiexAKbPSZXD0rl8",
      "authorship_tag": "ABX9TyNTTTvFKgUKQkE4rYceJUnL",
      "include_colab_link": true
    },
    "kernelspec": {
      "name": "python3",
      "display_name": "Python 3"
    },
    "language_info": {
      "name": "python"
    },
    "accelerator": "GPU",
    "gpuClass": "standard"
  },
  "cells": [
    {
      "cell_type": "markdown",
      "metadata": {
        "id": "view-in-github",
        "colab_type": "text"
      },
      "source": [
        "<a href=\"https://colab.research.google.com/github/ThoaaPhann/AI_W11_14_04_2023/blob/main/AI_14_04_2023.ipynb\" target=\"_parent\"><img src=\"https://colab.research.google.com/assets/colab-badge.svg\" alt=\"Open In Colab\"/></a>"
      ]
    },
    {
      "cell_type": "code",
      "execution_count": 17,
      "metadata": {
        "colab": {
          "base_uri": "https://localhost:8080/"
        },
        "id": "hOztstuhgPFs",
        "outputId": "9cbd7744-8485-4cca-dc45-33de520a1092"
      },
      "outputs": [
        {
          "output_type": "execute_result",
          "data": {
            "text/plain": [
              "((10000, 28, 28), (10000,))"
            ]
          },
          "metadata": {},
          "execution_count": 17
        }
      ],
      "source": [
        "from keras.datasets import fashion_mnist \n",
        "(x_train, y_train), (x_test, y_test) = fashion_mnist.load_data()\n",
        "x_train.shape, y_train.shape\n",
        "x_test.shape, y_test.shape\n"
      ]
    },
    {
      "cell_type": "code",
      "source": [
        "plt.figure(figsize = [10, 10])\n",
        "plt.subplot(121)  # equivalent to: plt.subplot(1, 2, 1)\n",
        "plt.imshow(x_train[0], cmap = 'gray')\n",
        "plt.title('So:{}'.format(y_train[0]))\n",
        "\n",
        "plt.subplot(122)\n",
        "plt.imshow(x_train[106], cmap = 'gray')\n",
        "plt.title('So:{}'.format(y_train[106]))"
      ],
      "metadata": {
        "colab": {
          "base_uri": "https://localhost:8080/",
          "height": 452
        },
        "id": "Gjn3bwQ39Nu8",
        "outputId": "53eb1822-c93c-4c98-ed74-3eaed22d2996"
      },
      "execution_count": 18,
      "outputs": [
        {
          "output_type": "execute_result",
          "data": {
            "text/plain": [
              "Text(0.5, 1.0, 'So:1')"
            ]
          },
          "metadata": {},
          "execution_count": 18
        },
        {
          "output_type": "display_data",
          "data": {
            "text/plain": [
              "<Figure size 1000x1000 with 2 Axes>"
            ],
            "image/png": "[encoded data removed]"
          },
          "metadata": {}
        }
      ]
    },
    {
      "cell_type": "code",
      "source": [
        "x_train = x_train.reshape(60000,28,28,1)\n",
        "x_test = x_test.reshape(10000,28,28,1)\n",
        "x_train.shape, x_test.shape"
      ],
      "metadata": {
        "colab": {
          "base_uri": "https://localhost:8080/"
        },
        "id": "cHp4dcVQiBga",
        "outputId": "6b0c2ee9-5cea-4cda-a6e4-fe022f11e110"
      },
      "execution_count": 19,
      "outputs": [
        {
          "output_type": "execute_result",
          "data": {
            "text/plain": [
              "((60000, 28, 28, 1), (10000, 28, 28, 1))"
            ]
          },
          "metadata": {},
          "execution_count": 19
        }
      ]
    },
    {
      "cell_type": "code",
      "source": [
        "from keras.utils import to_categorical\n",
        "x_train = x_train.astype('float32')/255\n",
        "x_test = x_test.astype('float32') /255\n",
        "y_train = to_categorical(y_train,10)\n",
        "y_test = to_categorical(y_test)\n",
        "y_train.shape"
      ],
      "metadata": {
        "colab": {
          "base_uri": "https://localhost:8080/"
        },
        "id": "qk9hINQmhu1o",
        "outputId": "9084ec58-cd09-4305-b1d6-9dc7639d704b"
      },
      "execution_count": 20,
      "outputs": [
        {
          "output_type": "execute_result",
          "data": {
            "text/plain": [
              "(60000, 10)"
            ]
          },
          "metadata": {},
          "execution_count": 20
        }
      ]
    },
    {
      "cell_type": "code",
      "source": [
        "from keras import optimizers\n",
        "from keras.models import Sequential \n",
        "from keras.models import Model\n",
        "from keras.layers import Dense\n",
        "from keras.layers import Flatten\n",
        "from keras.layers import Conv2D\n",
        "from keras.layers import MaxPooling2D\n",
        "from keras.layers import Normalization\n",
        "from keras.layers import LeakyReLU\n",
        "from keras.optimizers import Adam\n",
        "from keras import losses\n",
        "from keras.losses import categorical_crossentropy\n",
        "\n",
        "batch_size = 64\n",
        "epochs = 20\n",
        "classes = 10\n",
        "loss = losses\n",
        "\n",
        "Model = Sequential()\n",
        "Model.add(Conv2D(32,kernel_size = (3,3),activation = 'linear',input_shape = (28,28,1),padding = 'same')) # 32 lan tich chap, (3,3): bo loc\n",
        "Model.add(LeakyReLU(alpha = 0.1))\n",
        "Model.add(MaxPooling2D((2,2),padding = 'same'))\n",
        "\n",
        "Model.add(Conv2D(64,(3,3),activation ='linear', padding = 'same'))\n",
        "Model.add(LeakyReLU(alpha = 0.1))\n",
        "Model.add(MaxPooling2D((2,2),padding = 'same'))\n",
        "\n",
        "Model.add(Conv2D(128,(3,3), activation = 'linear', padding = 'same'))\n",
        "Model.add(LeakyReLU(alpha = 0.1))\n",
        "Model.add(MaxPooling2D((2,2),padding = 'same'))\n",
        "\n",
        "Model.add(Flatten())\n",
        "Model.add(Dense(128, activation = 'linear')) #128: lop an, input_shape: tu dong chuyen tiep\n",
        "Model.add(LeakyReLU(alpha = 0.1))\n",
        "Model.add(Dense(classes,activation = 'softmax'))\n",
        "Model.summary()"
      ],
      "metadata": {
        "colab": {
          "base_uri": "https://localhost:8080/"
        },
        "id": "EjETiDuulGmi",
        "outputId": "f899c899-cc5a-40d6-b467-75d355bdb5c3"
      },
      "execution_count": 21,
      "outputs": [
        {
          "output_type": "stream",
          "name": "stdout",
          "text": [
            "Model: \"sequential_2\"\n",
            "_________________________________________________________________\n",
            " Layer (type)                Output Shape              Param #   \n",
            "=================================================================\n",
            " conv2d_6 (Conv2D)           (None, 28, 28, 32)        320       \n",
            "                                                                 \n",
            " leaky_re_lu_8 (LeakyReLU)   (None, 28, 28, 32)        0         \n",
            "                                                                 \n",
            " max_pooling2d_6 (MaxPooling  (None, 14, 14, 32)       0         \n",
            " 2D)                                                             \n",
            "                                                                 \n",
            " conv2d_7 (Conv2D)           (None, 14, 14, 64)        18496     \n",
            "                                                                 \n",
            " leaky_re_lu_9 (LeakyReLU)   (None, 14, 14, 64)        0         \n",
            "                                                                 \n",
            " max_pooling2d_7 (MaxPooling  (None, 7, 7, 64)         0         \n",
            " 2D)                                                             \n",
            "                                                                 \n",
            " conv2d_8 (Conv2D)           (None, 7, 7, 128)         73856     \n",
            "                                                                 \n",
            " leaky_re_lu_10 (LeakyReLU)  (None, 7, 7, 128)         0         \n",
            "                                                                 \n",
            " max_pooling2d_8 (MaxPooling  (None, 4, 4, 128)        0         \n",
            " 2D)                                                             \n",
            "                                                                 \n",
            " flatten_2 (Flatten)         (None, 2048)              0         \n",
            "                                                                 \n",
            " dense_4 (Dense)             (None, 128)               262272    \n",
            "                                                                 \n",
            " leaky_re_lu_11 (LeakyReLU)  (None, 128)               0         \n",
            "                                                                 \n",
            " dense_5 (Dense)             (None, 10)                1290      \n",
            "                                                                 \n",
            "=================================================================\n",
            "Total params: 356,234\n",
            "Trainable params: 356,234\n",
            "Non-trainable params: 0\n",
            "_________________________________________________________________\n"
          ]
        }
      ]
    },
    {
      "cell_type": "code",
      "source": [
        "Model.compile(loss = loss.categorical_crossentropy, optimizer = \"Adam\", metrics = ['accuracy'])\n",
        "train = Model.fit(x_train, y_train, batch_size = batch_size, epochs = epochs, verbose = 1)"
      ],
      "metadata": {
        "colab": {
          "base_uri": "https://localhost:8080/"
        },
        "id": "E6jqBR5csJgV",
        "outputId": "9d4b8802-4e03-49c8-a71d-725fcda841ef"
      },
      "execution_count": 22,
      "outputs": [
        {
          "output_type": "stream",
          "name": "stdout",
          "text": [
            "Epoch 1/20\n",
            "938/938 [==============================] - 6s 5ms/step - loss: 0.4406 - accuracy: 0.8378\n",
            "Epoch 2/20\n",
            "938/938 [==============================] - 4s 5ms/step - loss: 0.2706 - accuracy: 0.9010\n",
            "Epoch 3/20\n",
            "938/938 [==============================] - 5s 6ms/step - loss: 0.2244 - accuracy: 0.9161\n",
            "Epoch 4/20\n",
            "938/938 [==============================] - 4s 5ms/step - loss: 0.1937 - accuracy: 0.9283\n",
            "Epoch 5/20\n",
            "938/938 [==============================] - 4s 5ms/step - loss: 0.1685 - accuracy: 0.9367\n",
            "Epoch 6/20\n",
            "938/938 [==============================] - 5s 5ms/step - loss: 0.1463 - accuracy: 0.9454\n",
            "Epoch 7/20\n",
            "938/938 [==============================] - 4s 5ms/step - loss: 0.1253 - accuracy: 0.9525\n",
            "Epoch 8/20\n",
            "938/938 [==============================] - 5s 5ms/step - loss: 0.1079 - accuracy: 0.9592\n",
            "Epoch 9/20\n",
            "938/938 [==============================] - 5s 5ms/step - loss: 0.0921 - accuracy: 0.9653\n",
            "Epoch 10/20\n",
            "938/938 [==============================] - 5s 5ms/step - loss: 0.0808 - accuracy: 0.9698\n",
            "Epoch 11/20\n",
            "938/938 [==============================] - 5s 5ms/step - loss: 0.0672 - accuracy: 0.9749\n",
            "Epoch 12/20\n",
            "938/938 [==============================] - 4s 5ms/step - loss: 0.0608 - accuracy: 0.9766\n",
            "Epoch 13/20\n",
            "938/938 [==============================] - 4s 4ms/step - loss: 0.0536 - accuracy: 0.9801\n",
            "Epoch 14/20\n",
            "938/938 [==============================] - 5s 5ms/step - loss: 0.0440 - accuracy: 0.9839\n",
            "Epoch 15/20\n",
            "938/938 [==============================] - 4s 4ms/step - loss: 0.0442 - accuracy: 0.9836\n",
            "Epoch 16/20\n",
            "938/938 [==============================] - 4s 4ms/step - loss: 0.0388 - accuracy: 0.9854\n",
            "Epoch 17/20\n",
            "938/938 [==============================] - 5s 6ms/step - loss: 0.0374 - accuracy: 0.9860\n",
            "Epoch 18/20\n",
            "938/938 [==============================] - 7s 8ms/step - loss: 0.0288 - accuracy: 0.9898\n",
            "Epoch 19/20\n",
            "938/938 [==============================] - 8s 9ms/step - loss: 0.0332 - accuracy: 0.9877\n",
            "Epoch 20/20\n",
            "938/938 [==============================] - 4s 4ms/step - loss: 0.0304 - accuracy: 0.9890\n"
          ]
        }
      ]
    },
    {
      "cell_type": "code",
      "source": [
        "Model.save('/content/drive/MyDrive/Giáo trình của 20146076/AI/AI_14_04_2023.h5')"
      ],
      "metadata": {
        "id": "9Gp2E8os-q1Q"
      },
      "execution_count": 24,
      "outputs": []
    },
    {
      "cell_type": "code",
      "source": [
        "eval = Model.evaluate(x_test, y_test, verbose = 0)  #verbose = 0: khong hien thi train\n",
        "print('Test loss: ', eval[0])\n",
        "print('Test accuracy: ', eval[1])"
      ],
      "metadata": {
        "colab": {
          "base_uri": "https://localhost:8080/"
        },
        "id": "omkJDgqP_T1f",
        "outputId": "eb674a96-bd16-4a6e-c3b4-1a367a012159"
      },
      "execution_count": 25,
      "outputs": [
        {
          "output_type": "stream",
          "name": "stdout",
          "text": [
            "Test loss:  0.4384000599384308\n",
            "Test accuracy:  0.9182000160217285\n"
          ]
        }
      ]
    },
    {
      "cell_type": "code",
      "source": [
        "import matplotlib.pyplot as plt \n",
        "\n",
        "accuracy = train.history['accuracy']\n",
        "loss = train.history['loss']\n",
        "epochs = range(len(accuracy))\n",
        "plt.plot(epochs, accuracy, 'bo', label = 'Training Accuracy')\n",
        "plt.plot(epochs, loss, 'b', label = 'Test Accuracy')\n",
        "plt.title('Training & Testing Accuracy')\n",
        "plt.legend()\n",
        "plt.show()"
      ],
      "metadata": {
        "id": "-E_zYOve06BS",
        "colab": {
          "base_uri": "https://localhost:8080/",
          "height": 452
        },
        "outputId": "64e3d8bc-cace-4c24-e68d-7cb5f25ebe13"
      },
      "execution_count": 27,
      "outputs": [
        {
          "output_type": "display_data",
          "data": {
            "text/plain": [
              "<Figure size 640x480 with 1 Axes>"
            ],
            "image/png": "[encoded data removed]"
          },
          "metadata": {}
        }
      ]
    }
  ]
}